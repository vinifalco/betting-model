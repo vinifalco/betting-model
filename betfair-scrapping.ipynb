{
 "cells": [
  {
   "cell_type": "markdown",
   "id": "f8056d29",
   "metadata": {},
   "source": [
    "# Imports"
   ]
  },
  {
   "cell_type": "code",
   "execution_count": 23,
   "id": "715cfc8a",
   "metadata": {},
   "outputs": [],
   "source": [
    "import os\n",
    "import selenium.webdriver as webdriver\n",
    "from selenium.webdriver.edge.service import Service \n",
    "from selenium.webdriver.common.by import By\n",
    "from selenium.webdriver.common.keys import Keys\n",
    "import pandas as pd\n",
    "import time\n",
    "import datetime"
   ]
  },
  {
   "cell_type": "markdown",
   "id": "14ba4b2b",
   "metadata": {},
   "source": [
    "# Parameters"
   ]
  },
  {
   "cell_type": "code",
   "execution_count": 24,
   "id": "2d09b96e",
   "metadata": {},
   "outputs": [],
   "source": [
    "betfair_url_today = 'https://www.betfair.com/exchange/plus/pt/futebol-apostas-1/today'\n",
    "betfair_url_tomorrow = 'https://www.betfair.com/exchange/plus/pt/futebol-apostas-1/tomorrow'\n",
    "\n",
    "betfair_email = ''\n",
    "betfair_password = ''"
   ]
  },
  {
   "cell_type": "markdown",
   "id": "c8166dc0",
   "metadata": {},
   "source": [
    "# Functions"
   ]
  },
  {
   "cell_type": "code",
   "execution_count": null,
   "id": "765c0543",
   "metadata": {},
   "outputs": [],
   "source": []
  },
  {
   "cell_type": "markdown",
   "id": "de53035a",
   "metadata": {},
   "source": [
    "# Main Code"
   ]
  },
  {
   "cell_type": "markdown",
   "id": "e78e8972",
   "metadata": {},
   "source": [
    "### Opening Betfair"
   ]
  },
  {
   "cell_type": "code",
   "execution_count": 25,
   "id": "54400786",
   "metadata": {},
   "outputs": [
    {
     "name": "stdout",
     "output_type": "stream",
     "text": [
      "Waiting for cookies...\n",
      "Waiting for cookies...\n",
      "Waiting for cookies...\n",
      "Cookies accepted!\n",
      "Successfully logged in!\n"
     ]
    }
   ],
   "source": [
    "#GET EDGE WEBDRIVER\n",
    "edge_driver_path = os.path.join(os.getcwd(), 'msedgedriver.exe')\n",
    "edge_service = Service(edge_driver_path)\n",
    "\n",
    "#OPEN BROWSER SESSION\n",
    "browser = webdriver.Edge(service = edge_service)\n",
    "browser.get(betfair_url_tomorrow)\n",
    "browser.maximize_window()\n",
    "\n",
    "#WAIT FOR COOKIES POPUP\n",
    "accepted = 0\n",
    "while accepted == 0:\n",
    "    try:\n",
    "        AcceptCookiesButton = browser.find_element(By.ID, 'onetrust-accept-btn-handler')\n",
    "        AcceptCookiesButton.click()\n",
    "        accepted = 1\n",
    "        print(\"Cookies accepted!\")\n",
    "    except:\n",
    "        print(\"Waiting for cookies...\")\n",
    "        time.sleep(2) \n",
    "\n",
    "#LOGING IN\n",
    "BetfairEmailInput = browser.find_element(By.ID, 'ssc-liu')\n",
    "BetfairEmailInput.clear()\n",
    "BetfairEmailInput.send_keys(betfair_email)\n",
    "BetfairPasswordInput = browser.find_element(By.ID, 'ssc-lipw')\n",
    "BetfairPasswordInput.clear()\n",
    "BetfairPasswordInput.send_keys(betfair_password)\n",
    "BetfairLoginButton = browser.find_element(By.ID, 'ssc-lis')\n",
    "BetfairLoginButton.click()\n",
    "print(\"Successfully logged in!\")"
   ]
  },
  {
   "cell_type": "markdown",
   "id": "7ab88a83",
   "metadata": {},
   "source": [
    "### Closing Edge Webdriver"
   ]
  },
  {
   "cell_type": "code",
   "execution_count": 26,
   "id": "1e9afd7b",
   "metadata": {},
   "outputs": [
    {
     "name": "stdout",
     "output_type": "stream",
     "text": [
      "Browser closed!\n"
     ]
    }
   ],
   "source": [
    "browser.close()\n",
    "browser.quit()\n",
    "print(\"Browser closed!\")"
   ]
  }
 ],
 "metadata": {
  "kernelspec": {
   "display_name": "Python 3 (ipykernel)",
   "language": "python",
   "name": "python3"
  },
  "language_info": {
   "codemirror_mode": {
    "name": "ipython",
    "version": 3
   },
   "file_extension": ".py",
   "mimetype": "text/x-python",
   "name": "python",
   "nbconvert_exporter": "python",
   "pygments_lexer": "ipython3",
   "version": "3.11.5"
  }
 },
 "nbformat": 4,
 "nbformat_minor": 5
}
