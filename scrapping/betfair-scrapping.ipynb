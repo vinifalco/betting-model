{
 "cells": [
  {
   "cell_type": "markdown",
   "id": "594b14ff",
   "metadata": {},
   "source": [
    "# Imports"
   ]
  },
  {
   "cell_type": "code",
   "execution_count": null,
   "id": "715cfc8a",
   "metadata": {},
   "outputs": [],
   "source": [
    "import os\n",
    "import selenium.webdriver as webdriver\n",
    "from selenium.webdriver.edge.service import Service \n",
    "from selenium.webdriver.common.by import By\n",
    "from selenium.webdriver.common.keys import Keys\n",
    "import pandas as pd\n",
    "import time\n",
    "import datetime"
   ]
  },
  {
   "cell_type": "markdown",
   "id": "63e5e098",
   "metadata": {},
   "source": [
    "# Parameters"
   ]
  },
  {
   "cell_type": "code",
   "execution_count": null,
   "id": "28bdcae1",
   "metadata": {},
   "outputs": [],
   "source": [
    "betfair_url_today = 'https://www.betfair.com/exchange/plus/pt/futebol-apostas-1/today'\n",
    "betfair_url_tomorrow = 'https://www.betfair.com/exchange/plus/pt/futebol-apostas-1/tomorrow'\n",
    "\n",
    "betfair_email = 'viniciusbonelli9@gmail.com' #FILL WITH YOUR CREDENTIALS\n",
    "betfair_password = 'GTI$foy6c57' #FILL WITH YOUR CREDENTIALS\n",
    "\n",
    "base_xpath = '//*[@id=\"main-wrapper\"]/div/div[2]/div/ui-view/ui-view/div/div/div/div/div[1]/div/div[1]/bf-super-coupon/main/ng-include[3]/section'"
   ]
  },
  {
   "cell_type": "markdown",
   "id": "90739b75",
   "metadata": {},
   "source": [
    "# Functions"
   ]
  },
  {
   "cell_type": "code",
   "execution_count": null,
   "id": "51a0ae8a",
   "metadata": {},
   "outputs": [],
   "source": []
  },
  {
   "cell_type": "markdown",
   "id": "24ca1fb3",
   "metadata": {},
   "source": [
    "# Main Code"
   ]
  },
  {
   "cell_type": "markdown",
   "id": "2ee2e78a",
   "metadata": {},
   "source": [
    "### Opening Betfair"
   ]
  },
  {
   "cell_type": "code",
   "execution_count": null,
   "id": "0a25bd19",
   "metadata": {},
   "outputs": [],
   "source": [
    "#GET EDGE WEBDRIVER\n",
    "edge_driver_path = os.path.join(os.getcwd(), 'msedgedriver.exe')\n",
    "edge_service = Service(edge_driver_path)\n",
    "\n",
    "#OPEN BROWSER SESSION\n",
    "browser = webdriver.Edge(service = edge_service)\n",
    "browser.get(betfair_url_tomorrow) #CHANGE HERE BASED ON WHICH DAY YOU WANT TO COLLECT DATA FROM\n",
    "browser.maximize_window()\n",
    "\n",
    "#WAIT FOR COOKIES POPUP\n",
    "accepted = 0\n",
    "while accepted == 0:\n",
    "    try:\n",
    "        AcceptCookiesButton = browser.find_element(By.ID, 'onetrust-accept-btn-handler')\n",
    "        AcceptCookiesButton.click()\n",
    "        accepted = 1\n",
    "        print(\"Cookies accepted!\")\n",
    "    except:\n",
    "        print(\"Waiting for cookies...\")\n",
    "        time.sleep(2) \n",
    "\n",
    "#LOGING IN\n",
    "BetfairEmailInput = browser.find_element(By.ID, 'ssc-liu')\n",
    "BetfairEmailInput.clear()\n",
    "BetfairEmailInput.send_keys(betfair_email)\n",
    "BetfairPasswordInput = browser.find_element(By.ID, 'ssc-lipw')\n",
    "BetfairPasswordInput.clear()\n",
    "BetfairPasswordInput.send_keys(betfair_password)\n",
    "BetfairLoginButton = browser.find_element(By.ID, 'ssc-lis')\n",
    "BetfairLoginButton.click()\n",
    "print(\"Successfully logged in!\")"
   ]
  },
  {
   "cell_type": "markdown",
   "id": "82a936f1",
   "metadata": {},
   "source": [
    "### Looping through all the games"
   ]
  },
  {
   "cell_type": "code",
   "execution_count": null,
   "id": "89486934",
   "metadata": {},
   "outputs": [],
   "source": [
    "#SET FIRST PAGE\n",
    "pages_to_loop = True\n",
    "current_page = browser.current_url\n",
    "\n",
    "#ENTER LOOP FOR EACH PAGE\n",
    "while pages_to_loop:\n",
    "    print(f'Buscando dados da página {current_page}')\n",
    "    time.sleep(2)\n",
    "    \n",
    "    #ENTER LOOP FOR EACH LEAGUE IN PAGE\n",
    "    leagues_left = True\n",
    "    league_counter = 1\n",
    "    while leagues_left:\n",
    "        \n",
    "        try:\n",
    "            LigaElement = browser.find_element(By.XPATH, base_xpath + f'[{str(league_counter)}]/div[1]/div/span')\n",
    "            print(f'Capturando {LigaElement.text}')\n",
    "            \n",
    "            #ENTER LOOP FOR EACH GAME IN LEAGUE\n",
    "            games_left = True\n",
    "            games_counter = 1\n",
    "            while games_left:\n",
    "                try:\n",
    "                    DateElement = browser.find_element(By.XPATH, base_xpath + f'[{str(league_counter)}]/div[2]/bf-coupon-table/div/table/tbody/tr[{str(games_counter)}]/td[1]/a/event-line/section/bf-livescores/section/div/div/data-bf-livescores-start-date/ng-include/div/div')\n",
    "                    HomeTeamElement = browser.find_element(By.XPATH, base_xpath + f'[{str(league_counter)}]/div[2]/bf-coupon-table/div/table/tbody/tr[{str(games_counter)}]/td[1]/a/event-line/section/ul[1]/li[1]')\n",
    "                    AwayTeamElement = browser.find_element(By.XPATH, base_xpath + f'[{str(league_counter)}]/div[2]/bf-coupon-table/div/table/tbody/tr[{str(games_counter)}]/td[1]/a/event-line/section/ul[1]/li[2]')\n",
    "                    BackHomeElement = browser.find_element(By.XPATH, base_xpath + f'[{str(league_counter)}]/div[2]/bf-coupon-table/div/table/tbody/tr[{str(games_counter)}]/td[2]/div[1]/ours-price-button[1]/button/label[1]')\n",
    "                    LayHomeElement = browser.find_element(By.XPATH, base_xpath + f'[{str(league_counter)}]/div[2]/bf-coupon-table/div/table/tbody/tr[{str(games_counter)}]/td[2]/div[1]/ours-price-button[2]/button/label[1]')\n",
    "                    BackDrawElement = browser.find_element(By.XPATH, base_xpath + f'[{str(league_counter)}]/div[2]/bf-coupon-table/div/table/tbody/tr[{str(games_counter)}]/td[2]/div[2]/ours-price-button[1]/button/label[1]')\n",
    "                    LayDrawElement = browser.find_element(By.XPATH, base_xpath + f'[{str(league_counter)}]/div[2]/bf-coupon-table/div/table/tbody/tr[{str(games_counter)}]/td[2]/div[2]/ours-price-button[2]/button/label[1]')\n",
    "                    BackAwayElement = browser.find_element(By.XPATH, base_xpath + f'[{str(league_counter)}]/div[2]/bf-coupon-table/div/table/tbody/tr[{str(games_counter)}]/td[2]/div[3]/ours-price-button[1]/button/label[1]')\n",
    "                    LayAwayElement = browser.find_element(By.XPATH, base_xpath + f'[{str(league_counter)}]/div[2]/bf-coupon-table/div/table/tbody/tr[{str(games_counter)}]/td[2]/div[3]/ours-price-button[2]/button/label[1]')\n",
    "                    print(DateElement.text, ' ', HomeTeamElement.text, ' x ', AwayTeamElement.text)\n",
    "                    print(f'Odds {BackHomeElement.text}/{LayHomeElement.text}/{BackDrawElement.text}/{LayDrawElement.text}/{BackAwayElement.text}/{LayAwayElement.text}')\n",
    "                    games_counter += 1\n",
    "                    time.sleep(2)\n",
    "                    \n",
    "                #EXIT GAME LOOP\n",
    "                except:\n",
    "                    print(\"Essa liga não tem mais jogos!\")\n",
    "                    games_left = False\n",
    "                    time.sleep(2)\n",
    "                \n",
    "            league_counter += 1\n",
    "            time.sleep(2)\n",
    "            \n",
    "        #EXIT LEAGUE LOOP\n",
    "        except:\n",
    "            print(\"Não há mais ligas nessa página!\")\n",
    "            leagues_left = False\n",
    "            time.sleep(2)\n",
    "    \n",
    "    #MOVE TO NEXT PAGE\n",
    "    previous_page = current_page\n",
    "    NextButton = browser.find_element(By.XPATH, '//*[@id=\"main-wrapper\"]/div/div[2]/div/ui-view/ui-view/div/div/div/div/div[1]/div/div[1]/bf-super-coupon/main/ng-include[4]/bf-coupon-page-navigation/ul/li[4]/a/label')\n",
    "    NextButton.click()\n",
    "    current_page = browser.current_url\n",
    "    \n",
    "    #IF LAST PAGE, END LOOP\n",
    "    if previous_page == current_page:\n",
    "        pages_to_loop = False\n",
    "    time.sleep(2)"
   ]
  },
  {
   "cell_type": "markdown",
   "id": "4c6d1a0a",
   "metadata": {},
   "source": [
    "### Closing Edge Webdriver"
   ]
  },
  {
   "cell_type": "code",
   "execution_count": null,
   "id": "5a415bbc",
   "metadata": {},
   "outputs": [],
   "source": [
    "browser.close()\n",
    "browser.quit()\n",
    "print(\"Browser closed!\")"
   ]
  },
  {
   "cell_type": "code",
   "execution_count": null,
   "id": "d2021cd0",
   "metadata": {},
   "outputs": [],
   "source": []
  }
 ],
 "metadata": {
  "kernelspec": {
   "display_name": "Python 3 (ipykernel)",
   "language": "python",
   "name": "python3"
  },
  "language_info": {
   "codemirror_mode": {
    "name": "ipython",
    "version": 3
   },
   "file_extension": ".py",
   "mimetype": "text/x-python",
   "name": "python",
   "nbconvert_exporter": "python",
   "pygments_lexer": "ipython3",
   "version": "3.11.5"
  }
 },
 "nbformat": 4,
 "nbformat_minor": 5
}
