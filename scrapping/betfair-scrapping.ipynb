{
 "cells": [
  {
   "cell_type": "markdown",
   "id": "594b14ff",
   "metadata": {},
   "source": [
    "# Imports"
   ]
  },
  {
   "cell_type": "code",
   "execution_count": null,
   "id": "715cfc8a",
   "metadata": {},
   "outputs": [],
   "source": [
    "import os\n",
    "import selenium.webdriver as webdriver\n",
    "from selenium.webdriver.edge.service import Service \n",
    "from selenium.webdriver.common.by import By\n",
    "from selenium.webdriver.common.keys import Keys\n",
    "import pandas as pd\n",
    "import time\n",
    "import datetime"
   ]
  },
  {
   "cell_type": "markdown",
   "id": "63e5e098",
   "metadata": {},
   "source": [
    "# Parameters"
   ]
  },
  {
   "cell_type": "code",
   "execution_count": null,
   "id": "28bdcae1",
   "metadata": {},
   "outputs": [],
   "source": [
    "betfair_url = 'https://www.betfair.com/exchange/plus/pt/futebol-apostas-1/today' #USE THIS FOR CAPTURING TODAYS'S GAMES\n",
    "#betfair_url = 'https://www.betfair.com/exchange/plus/pt/futebol-apostas-1/tomorrow' #USE THIS FOR CAPTURING TOMORROW'S GAMES\n",
    "\n",
    "betfair_email = '' #FILL WITH YOUR CREDENTIALS\n",
    "betfair_password = '' #FILL WITH YOUR CREDENTIALS\n",
    "omqb_email = betfair_email #FILL WITH YOUR CREDENTIALS\n",
    "omqb_password = betfair_password #FILL WITH YOUR CREDENTIALS\n",
    "\n",
    "base_xpath = '//*[@id=\"main-wrapper\"]/div/div[2]/div/ui-view/ui-view/div/div/div/div/div[1]/div/div[1]/bf-super-coupon/main/ng-include[3]/section'\n",
    "\n",
    "#COLUMN HEADERS FOR EACH ODD MARKET\n",
    "finalresultoddsheaders = [\"BH\", \"LH\", \"BD\", \"LD\", \"BA\", \"LA\"]\n",
    "bttsoddsheaders = [\"BY_BTTS\", \"LY_BTTS\", \"BN_BTTS\", \"LN_BTTS\"]\n",
    "overunder15oddsheaders = [\"B_UNDER1_5\", \"L_UNDER1_5\", \"B_OVER1_5\", \"L_OVER1_5\"]\n",
    "overunder25oddsheaders = [\"B_UNDER2_5\", \"L_UNDER2_5\", \"B_OVER2_5\", \"L_OVER2_5\"]\n",
    "htoddsheaders = [\"BH_HT\", \"LH_HT\", \"BD_HT\", \"LD_HT\", \"BA_HT\", \"LA_HT\"]\n",
    "\n",
    "#MARKETS TO CAPTURE ODDS FROM\n",
    "options = ['Resultado Final', 'Intervalo', 'Ambas as Equipes Marcam', 'Mais/Menos de 1.5 gols',  'Mais/Menos de 2.5 gols']\n",
    "\n",
    "run_id = \"3\" #JOB RUN IDENTIFIER\n",
    "day_of_games = \"2023-12-19\" #FILL WITH DAY OF GAMES BEING CAPTURED (TODAY OR TOMORROW)\n",
    "output_file = day_of_games + '_dados_betfair_' + run_id + '.xlsx' #FILENAME FOR BETFAIR DATA\n",
    "model_file = day_of_games + '_dados_omqb_' + run_id + '.xlsx' #FILENAME FOR BETFAIR + OMQB DATA"
   ]
  },
  {
   "cell_type": "markdown",
   "id": "90739b75",
   "metadata": {},
   "source": [
    "# Functions"
   ]
  },
  {
   "cell_type": "code",
   "execution_count": null,
   "id": "51a0ae8a",
   "metadata": {},
   "outputs": [],
   "source": [
    "#FUNCTION TO CHECK IF ODDS SPREAD IS BIGGER THEN THRESHOLD\n",
    "def odds_check_spread(row):\n",
    "    try:\n",
    "        var_1 = row['LH'] / row['BH'] - 1\n",
    "    except: \n",
    "        var_1 = 1.0\n",
    "    try:\n",
    "        var_2 = row['LD'] / row['BD'] - 1\n",
    "    except: \n",
    "        var_1 = 1.0\n",
    "    try:\n",
    "        var_3 = row['LA'] / row['BA'] - 1\n",
    "    except: \n",
    "        var_1 = 1.0\n",
    "        \n",
    "    #CHANGE HERE IF YOU WANT TO ALLOW SPREADS BIGGER THAN 20%\n",
    "    if (var_1 > 0.2) or (var_2 > 0.2) or (var_3 > 0.2):\n",
    "        return 1\n",
    "    elif (var_1 < 0) or (var_2 < 0) or (var_3 < 0):\n",
    "        return 1\n",
    "    else:\n",
    "        return 0\n",
    "    \n",
    "#FUNCTION TO FILL WITH 0.0 WHEN ODD IS NULL/BLANK\n",
    "def solve_null_odds(array_odds, headers, row_dict):\n",
    "    for j in range(0,len(array_odds)):\n",
    "        try:\n",
    "            row_dict[headers[j]] = float(array_odds[j])\n",
    "        except:\n",
    "            row_dict[headers[j]] = 0.0\n",
    "    return row"
   ]
  },
  {
   "cell_type": "markdown",
   "id": "24ca1fb3",
   "metadata": {},
   "source": [
    "# Main Code"
   ]
  },
  {
   "cell_type": "markdown",
   "id": "2ee2e78a",
   "metadata": {},
   "source": [
    "### Opening Betfair"
   ]
  },
  {
   "cell_type": "code",
   "execution_count": null,
   "id": "bdc80329",
   "metadata": {},
   "outputs": [],
   "source": [
    "#GET EDGE WEBDRIVER\n",
    "edge_driver_path = os.path.join(os.getcwd(), 'msedgedriver.exe')\n",
    "edge_service = Service(edge_driver_path)\n",
    "\n",
    "#OPEN BROWSER SESSION\n",
    "browser = webdriver.Edge(service = edge_service)\n",
    "browser.get(betfair_url) \n",
    "browser.maximize_window()\n",
    "\n",
    "#WAIT FOR COOKIES POPUP\n",
    "accepted = 0\n",
    "while accepted == 0:\n",
    "    try:\n",
    "        AcceptCookiesButton = browser.find_element(By.ID, 'onetrust-accept-btn-handler')\n",
    "        AcceptCookiesButton.click()\n",
    "        accepted = 1\n",
    "        print(\"Cookies accepted!\")\n",
    "    except:\n",
    "        print(\"Waiting for cookies...\")\n",
    "        time.sleep(2) \n",
    "        \n",
    "#LOGGING IN\n",
    "BetfairEmailInput = browser.find_element(By.ID, 'ssc-liu')\n",
    "BetfairEmailInput.clear()\n",
    "BetfairEmailInput.send_keys(betfair_email)\n",
    "BetfairPasswordInput = browser.find_element(By.ID, 'ssc-lipw')\n",
    "BetfairPasswordInput.clear()\n",
    "BetfairPasswordInput.send_keys(betfair_password)\n",
    "BetfairLoginButton = browser.find_element(By.ID, 'ssc-lis')\n",
    "BetfairLoginButton.click()\n",
    "print(\"Successfully logged in!\")\n",
    "time.sleep(10)"
   ]
  },
  {
   "cell_type": "markdown",
   "id": "f3c64b2c",
   "metadata": {},
   "source": [
    "### Looping through all the games"
   ]
  },
  {
   "cell_type": "code",
   "execution_count": null,
   "id": "0e287cba",
   "metadata": {
    "scrolled": true
   },
   "outputs": [],
   "source": [
    "#INIT ARRAY FOR EACH ODD MARKET YOU WANT TO CAPTURE\n",
    "finalresult = []\n",
    "halftime = []\n",
    "btts = []\n",
    "over15 = []\n",
    "over25 = []\n",
    "\n",
    "#GET CURRENT TIMESTAMP\n",
    "timestamp = datetime.datetime.now()\n",
    "timestampstr = str(timestamp)\n",
    "\n",
    "#ENTER LOOP FOR EACH ODD MARKET\n",
    "for i in range(0, len(options)):\n",
    "    #IF FIRST ODD MARKET (Resultado Final)\n",
    "    if i == 0:\n",
    "        print(\"Capturando \", options[i])\n",
    "        time.sleep(2)\n",
    "    #ELSE GO BACK TO FIRST PAGE, THEN SWITCH MARKETS IN DROPDOWN MENU\n",
    "    else:\n",
    "        StartButton = browser.find_element(By.XPATH, '//*[@id=\"main-wrapper\"]/div/div[2]/div/ui-view/ui-view/div/div/div/div/div[1]/div/div[1]/bf-super-coupon/main/ng-include[4]/bf-coupon-page-navigation/ul/li[1]/a/label')\n",
    "        StartButton.click()\n",
    "        time.sleep(2)\n",
    "        ToggleElement = browser.find_element(By.XPATH, '//*[@id=\"main-wrapper\"]/div/div[2]/div/ui-view/ui-view/div/div/div/div/div[1]/div/div[1]/bf-super-coupon/main/ng-include[2]/section/div[2]/bf-select/div/label')\n",
    "        ToggleElement.click()\n",
    "        time.sleep(2)\n",
    "        DropElement = browser.find_element(By.XPATH, f'//*[@title=\"{options[i]}\"]')\n",
    "        DropElement.click()\n",
    "        print(\"Capturando \", options[i])\n",
    "        time.sleep(2)\n",
    "        \n",
    "    #SET FIRST PAGE\n",
    "    pages_to_loop = True\n",
    "    current_page = browser.current_url\n",
    "    \n",
    "    #ENTER LOOP FOR EACH PAGE\n",
    "    while pages_to_loop:\n",
    "        print(f'Buscando dados da página {current_page}')\n",
    "        time.sleep(2)\n",
    "        \n",
    "        #ENTER LOOP FOR EACH LEAGUE IN PAGE\n",
    "        leagues_left = True\n",
    "        league_counter = 1\n",
    "        while leagues_left:\n",
    "            \n",
    "            try:\n",
    "                LigaElement = browser.find_element(By.XPATH, base_xpath + f'[{str(league_counter)}]/div[1]/div/span')\n",
    "                print(f'Capturando {LigaElement.text}')\n",
    "                \n",
    "                for div in [\"[1]\", \"[2]\"]:\n",
    "                    #ENTER LOOP FOR EACH GAME IN LEAGUE\n",
    "                    games_left = True\n",
    "                    games_counter = 1\n",
    "                    while games_left:\n",
    "                        row = {}\n",
    "                        try:\n",
    "                            row[\"RunTimestamp\"] = timestampstr\n",
    "                            row[\"RunID\"] = run_id\n",
    "                        \n",
    "                            #ATTEMPT TO GET DATE\n",
    "                            try:\n",
    "                                row[\"GameTimestamp\"] = browser.find_element(By.XPATH, base_xpath + f'[{str(league_counter)}]/div[2]/bf-coupon-table{div}/div/table/tbody/tr[{str(games_counter)}]/td[1]/a/event-line/section/bf-livescores/section/div/div/data-bf-livescores-start-date/ng-include/div/div').text\n",
    "                            #OTHERWISE RETURN LIVE\n",
    "                            except:\n",
    "                                row[\"GameTimestamp\"] = \"Ao Vivo\"\n",
    "         \n",
    "                            #GET TEAMS AND ODDS\n",
    "                            row[\"HomeTeam\"] = browser.find_element(By.XPATH, base_xpath + f'[{str(league_counter)}]/div[2]/bf-coupon-table{div}/div/table/tbody/tr[{str(games_counter)}]/td[1]/a/event-line/section/ul[1]/li[1]').text\n",
    "                            row[\"AwayTeam\"] = browser.find_element(By.XPATH, base_xpath + f'[{str(league_counter)}]/div[2]/bf-coupon-table{div}/div/table/tbody/tr[{str(games_counter)}]/td[1]/a/event-line/section/ul[1]/li[2]').text\n",
    "                            row[\"Liga\"] = LigaElement.text\n",
    "                            \n",
    "                            #IF MARKET HAS 3 PAIRS OF ODDS\n",
    "                            if options[i] in ['Resultado Final', 'Intervalo']:\n",
    "                                BackDiv1Element = browser.find_element(By.XPATH, base_xpath + f'[{str(league_counter)}]/div[2]/bf-coupon-table{div}/div/table/tbody/tr[{str(games_counter)}]/td[2]/div[1]/ours-price-button[1]/button/label[1]').text\n",
    "                                LayDiv1Element = browser.find_element(By.XPATH, base_xpath + f'[{str(league_counter)}]/div[2]/bf-coupon-table{div}/div/table/tbody/tr[{str(games_counter)}]/td[2]/div[1]/ours-price-button[2]/button/label[1]').text\n",
    "                                BackDiv2Element = browser.find_element(By.XPATH, base_xpath + f'[{str(league_counter)}]/div[2]/bf-coupon-table{div}/div/table/tbody/tr[{str(games_counter)}]/td[2]/div[2]/ours-price-button[1]/button/label[1]').text\n",
    "                                LayDiv2Element = browser.find_element(By.XPATH, base_xpath + f'[{str(league_counter)}]/div[2]/bf-coupon-table{div}/div/table/tbody/tr[{str(games_counter)}]/td[2]/div[2]/ours-price-button[2]/button/label[1]').text\n",
    "                                BackDiv3Element = browser.find_element(By.XPATH, base_xpath + f'[{str(league_counter)}]/div[2]/bf-coupon-table{div}/div/table/tbody/tr[{str(games_counter)}]/td[2]/div[3]/ours-price-button[1]/button/label[1]').text\n",
    "                                LayDiv3Element = browser.find_element(By.XPATH, base_xpath + f'[{str(league_counter)}]/div[2]/bf-coupon-table{div}/div/table/tbody/tr[{str(games_counter)}]/td[2]/div[3]/ours-price-button[2]/button/label[1]').text\n",
    "                            #IF MARKET HAS 2 PAIRS OF ODDS\n",
    "                            else:\n",
    "                                BackDiv1Element = browser.find_element(By.XPATH, base_xpath + f'[{str(league_counter)}]/div[2]/bf-coupon-table{div}/div/table/tbody/tr[{str(games_counter)}]/td[2]/div[1]/ours-price-button[1]/button/label[1]').text\n",
    "                                LayDiv1Element = browser.find_element(By.XPATH, base_xpath + f'[{str(league_counter)}]/div[2]/bf-coupon-table{div}/div/table/tbody/tr[{str(games_counter)}]/td[2]/div[1]/ours-price-button[2]/button/label[1]').text\n",
    "                                BackDiv2Element = browser.find_element(By.XPATH, base_xpath + f'[{str(league_counter)}]/div[2]/bf-coupon-table{div}/div/table/tbody/tr[{str(games_counter)}]/td[2]/div[2]/ours-price-button[1]/button/label[1]').text\n",
    "                                LayDiv2Element = browser.find_element(By.XPATH, base_xpath + f'[{str(league_counter)}]/div[2]/bf-coupon-table{div}/div/table/tbody/tr[{str(games_counter)}]/td[2]/div[2]/ours-price-button[2]/button/label[1]').text\n",
    "                            \n",
    "                            #FOR EACH MARKET APPEND ROW IN CORRECT ARRAY\n",
    "                            if options[i] == 'Resultado Final':\n",
    "                                oddstext = [BackDiv1Element, LayDiv1Element, BackDiv2Element, LayDiv2Element, BackDiv3Element, LayDiv3Element]\n",
    "                                finalresult.append(solve_null_odds(oddstext, finalresultoddsheaders, row))\n",
    "                                print(row)\n",
    "                            elif options[i] == 'Intervalo':\n",
    "                                oddstext = [BackDiv1Element, LayDiv1Element, BackDiv2Element, LayDiv2Element, BackDiv3Element, LayDiv3Element]\n",
    "                                halftime.append(solve_null_odds(oddstext, htoddsheaders, row))\n",
    "                                print(row)\n",
    "                            elif options[i] == 'Ambas as Equipes Marcam':\n",
    "                                oddstext = [BackDiv1Element, LayDiv1Element, BackDiv2Element, LayDiv2Element]\n",
    "                                btts.append(solve_null_odds(oddstext, bttsoddsheaders, row))\n",
    "                                print(row)\n",
    "                            elif options[i] == 'Mais/Menos de 1.5 gols':\n",
    "                                oddstext = [BackDiv1Element, LayDiv1Element, BackDiv2Element, LayDiv2Element]\n",
    "                                over15.append(solve_null_odds(oddstext, overunder15oddsheaders, row))\n",
    "                                print(row)\n",
    "                            elif options[i] == 'Mais/Menos de 2.5 gols':\n",
    "                                oddstext = [BackDiv1Element, LayDiv1Element, BackDiv2Element, LayDiv2Element]\n",
    "                                over25.append(solve_null_odds(oddstext, overunder25oddsheaders, row))\n",
    "                                print(row)\n",
    "                            \n",
    "                            games_counter += 1\n",
    "                            time.sleep(0.5)\n",
    "                            \n",
    "                        #EXIT GAME LOOP\n",
    "                        except:\n",
    "                            print(\"Essa liga não tem mais jogos!\")\n",
    "                            games_left = False\n",
    "                            time.sleep(0.5)\n",
    "                    \n",
    "                league_counter += 1\n",
    "                time.sleep(0.5)\n",
    "                \n",
    "            #EXIT LEAGUE LOOP\n",
    "            except:\n",
    "                print(\"Não há mais ligas nessa página!\")\n",
    "                leagues_left = False\n",
    "                time.sleep(2)\n",
    "        \n",
    "        #MOVE TO NEXT PAGE\n",
    "        previous_page = current_page\n",
    "        try:\n",
    "            NextButton = browser.find_element(By.XPATH, '//*[@id=\"main-wrapper\"]/div/div[2]/div/ui-view/ui-view/div/div/div/div/div[1]/div/div[1]/bf-super-coupon/main/ng-include[4]/bf-coupon-page-navigation/ul/li[4]/a/label')\n",
    "            NextButton.click()\n",
    "        except:\n",
    "            pages_to_loop = False\n",
    "        current_page = browser.current_url\n",
    "        \n",
    "        #IF LAST PAGE, END LOOP\n",
    "        if previous_page == current_page:\n",
    "            pages_to_loop = False\n",
    "        time.sleep(2)"
   ]
  },
  {
   "cell_type": "markdown",
   "id": "1429225d",
   "metadata": {},
   "source": [
    "### Creating Betfair data dataframe"
   ]
  },
  {
   "cell_type": "code",
   "execution_count": null,
   "id": "6cc6b811",
   "metadata": {},
   "outputs": [],
   "source": [
    "#CHECK LEN OF EACH ARRAY \n",
    "#OBS: HT, BTTS, Over Goals CAN HAVE LESS ROWS IF YOU CAPTURED LIVE GAMES\n",
    "print(len(finalresult))\n",
    "print(len(halftime))\n",
    "print(len(btts))\n",
    "print(len(over15))\n",
    "print(len(over25))"
   ]
  },
  {
   "cell_type": "code",
   "execution_count": null,
   "id": "88c77bea",
   "metadata": {},
   "outputs": [],
   "source": [
    "#CREATING DATAFRAMES FOR EACH MARKET\n",
    "df_finalresult = pd.DataFrame.from_dict(finalresult)\n",
    "df_finalresult['Dia'] = day_of_games\n",
    "df_finalresult['ID'] = df_finalresult['HomeTeam'] + ' vs ' + df_finalresult['AwayTeam'] + ' ' + df_finalresult['Dia']\n",
    "df_finalresult['Spread'] = df_finalresult.apply(odds_check_spread, axis=1)\n",
    "df_finalresult = df_finalresult.set_index('ID')\n",
    "\n",
    "df_halftime = pd.DataFrame.from_dict(halftime)\n",
    "df_halftime['Dia'] = day_of_games\n",
    "df_halftime['ID'] = df_halftime['HomeTeam'] + ' vs ' + df_halftime['AwayTeam'] + ' ' + df_halftime['Dia']\n",
    "df_halftime = df_halftime.set_index('ID')\n",
    "df_halftime = df_halftime.drop(columns=['RunTimestamp','RunID','GameTimestamp','HomeTeam','AwayTeam','Liga','Dia'])\n",
    "\n",
    "df_btts = pd.DataFrame.from_dict(btts)\n",
    "df_btts['Dia'] = day_of_games\n",
    "df_btts['ID'] = df_btts['HomeTeam'] + ' vs ' + df_btts['AwayTeam'] + ' ' + df_btts['Dia']\n",
    "df_btts = df_btts.set_index('ID')\n",
    "df_btts = df_btts.drop(columns=['RunTimestamp','RunID','GameTimestamp','HomeTeam','AwayTeam','Liga','Dia'])\n",
    "\n",
    "df_over15 = pd.DataFrame.from_dict(over15)\n",
    "df_over15['Dia'] = day_of_games\n",
    "df_over15['ID'] = df_over15['HomeTeam'] + ' vs ' + df_over15['AwayTeam'] + ' ' + df_over15['Dia']\n",
    "df_over15 = df_over15.set_index('ID')\n",
    "df_over15 = df_over15.drop(columns=['RunTimestamp','RunID','GameTimestamp','HomeTeam','AwayTeam','Liga','Dia'])\n",
    "\n",
    "df_over25 = pd.DataFrame.from_dict(over25)\n",
    "df_over25['Dia'] = day_of_games\n",
    "df_over25['ID'] = df_over25['HomeTeam'] + ' vs ' + df_over25['AwayTeam'] + ' ' + df_over25['Dia']\n",
    "df_over25 = df_over25.set_index('ID')\n",
    "df_over25 = df_over25.drop(columns=['RunTimestamp','RunID','GameTimestamp','HomeTeam','AwayTeam','Liga','Dia'])"
   ]
  },
  {
   "cell_type": "code",
   "execution_count": null,
   "id": "59ce0433",
   "metadata": {},
   "outputs": [],
   "source": [
    "#JOINING ALL DFS INTO ONE\n",
    "df = df_finalresult.join(df_halftime, rsuffix = '_HT').join(df_btts, rsuffix = '_BTTS').join(df_over15, rsuffix = '_OVER15').join(df_over25, rsuffix = '_OVER25')\n",
    "df.head(5)"
   ]
  },
  {
   "cell_type": "code",
   "execution_count": null,
   "id": "89486934",
   "metadata": {},
   "outputs": [],
   "source": [
    "#EXPORTING EXCEL FILE\n",
    "df.to_excel(output_file)\n",
    "print(\"Excel exported!\")"
   ]
  },
  {
   "cell_type": "markdown",
   "id": "df7a6f78",
   "metadata": {},
   "source": [
    "### Opening OMQB"
   ]
  },
  {
   "cell_type": "code",
   "execution_count": null,
   "id": "42bc0224",
   "metadata": {},
   "outputs": [],
   "source": [
    "#GET OMQB AND LOG IN\n",
    "browser.get('https://om-qb.com')\n",
    "EmailinputElement = browser.find_element(By.ID, 'id_login')\n",
    "EmailinputElement.send_keys(omqb_email)\n",
    "SenhainputElement = browser.find_element(By.ID, 'id_password')\n",
    "SenhainputElement.send_keys(omqb_password)\n",
    "SenhainputElement.send_keys(Keys.ENTER)\n",
    "print(\"Successfully logged in!\")\n",
    "time.sleep(5)\n",
    "\n",
    "#GO TO LAY MODEL\n",
    "ModeloAbaElement = browser.find_element(By.XPATH, '//*[@id=\"sidebar\"]/ul/li[3]/a')\n",
    "ModeloAbaElement.click()\n",
    "LayModelElement = browser.find_element(By.XPATH, '//*[@id=\"sidebar\"]/ul/li[3]/ul/li[1]/a')\n",
    "LayModelElement.click()\n",
    "time.sleep(2)"
   ]
  },
  {
   "cell_type": "markdown",
   "id": "d435f70c",
   "metadata": {},
   "source": [
    "### Compiling Lay Model results"
   ]
  },
  {
   "cell_type": "code",
   "execution_count": null,
   "id": "ce5b0dd9",
   "metadata": {},
   "outputs": [],
   "source": [
    "#GET LAY MODEL VERSION FOR CONTROL\n",
    "LayVersionElement = browser.find_element(By.XPATH, '/html/body/div[4]/div[1]/div[1]/h1').text\n",
    "print(LayVersionElement)\n",
    "\n",
    "#LOOP THROUGH ALL GAMES\n",
    "for row in range(0, len(df)):\n",
    "    \n",
    "    #IF FLAG SPREAD = 1 (ABOVE 20%) PASS MODEL\n",
    "    if df.iloc[row]['Spread'] == 1:\n",
    "        df.at[df.index[row],LayVersionElement] = 'Sugestão: Fique de fora no modelo - OMQBI:'\n",
    "    #ELSE GET MODEL OUTPUT\n",
    "    else:\n",
    "        home = str(df.iloc[row]['BH'])\n",
    "        draw = str(df.iloc[row]['BD'])\n",
    "        away = str(df.iloc[row]['BA'])\n",
    "    \n",
    "        time.sleep(1)\n",
    "    \n",
    "        HomeinputElement = browser.find_element(By.NAME, 'home-odds')\n",
    "        HomeinputElement.send_keys(home)\n",
    "        DrawinputElement = browser.find_element(By.NAME, 'draw-odds')\n",
    "        DrawinputElement.send_keys(draw)\n",
    "        AwayinputElement = browser.find_element(By.NAME, 'away-odds')\n",
    "        AwayinputElement.send_keys(away)\n",
    "        AwayinputElement.send_keys(Keys.ENTER)\n",
    "    \n",
    "        time.sleep(2)\n",
    "    \n",
    "        ResultadoElement = browser.find_element(By.XPATH, '/html/body/div[4]/div[1]/div[2]').text\n",
    "        print(str(df.index[row]) , ' ', ResultadoElement)\n",
    "\n",
    "        df.at[df.index[row],LayVersionElement] = ResultadoElement"
   ]
  },
  {
   "cell_type": "markdown",
   "id": "72e6fb69",
   "metadata": {},
   "source": [
    "### Navigating to the Back Model"
   ]
  },
  {
   "cell_type": "code",
   "execution_count": null,
   "id": "22f9b68e",
   "metadata": {},
   "outputs": [],
   "source": [
    "#GO TO BACK MODEL\n",
    "time.sleep(5)\n",
    "ModeloAbaElement = browser.find_element(By.XPATH, '//*[@id=\"sidebar\"]/ul/li[3]/a')\n",
    "ModeloAbaElement.click()\n",
    "BackModelElement = browser.find_element(By.XPATH, '//*[@id=\"sidebar\"]/ul/li[3]/ul/li[2]/a')\n",
    "BackModelElement.click()\n",
    "time.sleep(5)"
   ]
  },
  {
   "cell_type": "markdown",
   "id": "45e1d6a1",
   "metadata": {},
   "source": [
    "### Compiling Back Model results "
   ]
  },
  {
   "cell_type": "code",
   "execution_count": null,
   "id": "acc59884",
   "metadata": {},
   "outputs": [],
   "source": [
    "#GET BACK MODEL VERSION\n",
    "BackVersionElement = browser.find_element(By.XPATH, '/html/body/div[4]/div[1]/div[1]/h1').text\n",
    "print(BackVersionElement)\n",
    "\n",
    "for row in range(0, len(df)):\n",
    "    \n",
    "    #IF FLAG SPREAD = 1 (ABOVE 20%) PASS MODEL\n",
    "    if df.iloc[row]['Spread'] == 1:\n",
    "        df.at[df.index[row],BackVersionElement] = 'Sugestão: Fique de fora no modelo - OMQBI:'\n",
    "    #ELSE GET MODEL OUTPUT\n",
    "    else:\n",
    "        home = str(df.iloc[row]['BH'])\n",
    "        draw = str(df.iloc[row]['BD'])\n",
    "        away = str(df.iloc[row]['BA'])\n",
    "    \n",
    "        time.sleep(1)\n",
    "    \n",
    "        HomeinputElement = browser.find_element(By.NAME, 'home-odds')\n",
    "        HomeinputElement.send_keys(home)\n",
    "        DrawinputElement = browser.find_element(By.NAME, 'draw-odds')\n",
    "        DrawinputElement.send_keys(draw)\n",
    "        AwayinputElement = browser.find_element(By.NAME, 'away-odds')\n",
    "        AwayinputElement.send_keys(away)\n",
    "        AwayinputElement.send_keys(Keys.ENTER)\n",
    "    \n",
    "        time.sleep(2)\n",
    "    \n",
    "        ResultadoElement = browser.find_element(By.XPATH, '/html/body/div[4]/div[1]/div[2]').text\n",
    "        print(str(df.index[row]) , ' ', ResultadoElement)\n",
    "\n",
    "        df.at[df.index[row],BackVersionElement] = ResultadoElement"
   ]
  },
  {
   "cell_type": "markdown",
   "id": "37bf8066",
   "metadata": {},
   "source": [
    "### Saving Model output Excel"
   ]
  },
  {
   "cell_type": "code",
   "execution_count": null,
   "id": "e233cb71",
   "metadata": {},
   "outputs": [],
   "source": [
    "df.to_excel(model_file)\n",
    "print(\"Excel exported!\")"
   ]
  },
  {
   "cell_type": "markdown",
   "id": "4c6d1a0a",
   "metadata": {},
   "source": [
    "### Closing Edge Webdriver"
   ]
  },
  {
   "cell_type": "code",
   "execution_count": null,
   "id": "5a415bbc",
   "metadata": {},
   "outputs": [],
   "source": [
    "browser.close()\n",
    "browser.quit()\n",
    "print(\"Browser closed!\")"
   ]
  },
  {
   "cell_type": "code",
   "execution_count": null,
   "id": "af068d73",
   "metadata": {},
   "outputs": [],
   "source": []
  }
 ],
 "metadata": {
  "kernelspec": {
   "display_name": "Python 3 (ipykernel)",
   "language": "python",
   "name": "python3"
  },
  "language_info": {
   "codemirror_mode": {
    "name": "ipython",
    "version": 3
   },
   "file_extension": ".py",
   "mimetype": "text/x-python",
   "name": "python",
   "nbconvert_exporter": "python",
   "pygments_lexer": "ipython3",
   "version": "3.11.5"
  }
 },
 "nbformat": 4,
 "nbformat_minor": 5
}
