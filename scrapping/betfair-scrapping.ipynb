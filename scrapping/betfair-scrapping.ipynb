{
 "cells": [
  {
   "cell_type": "markdown",
   "id": "594b14ff",
   "metadata": {},
   "source": [
    "# Imports"
   ]
  },
  {
   "cell_type": "code",
   "execution_count": null,
   "id": "715cfc8a",
   "metadata": {},
   "outputs": [],
   "source": [
    "import os\n",
    "import selenium.webdriver as webdriver\n",
    "from selenium.webdriver.edge.service import Service \n",
    "from selenium.webdriver.common.by import By\n",
    "from selenium.webdriver.common.keys import Keys\n",
    "import pandas as pd\n",
    "import time\n",
    "import datetime"
   ]
  },
  {
   "cell_type": "markdown",
   "id": "63e5e098",
   "metadata": {},
   "source": [
    "# Parameters"
   ]
  },
  {
   "cell_type": "code",
   "execution_count": null,
   "id": "28bdcae1",
   "metadata": {},
   "outputs": [],
   "source": [
    "betfair_url_today = 'https://www.betfair.com/exchange/plus/pt/futebol-apostas-1/today'\n",
    "betfair_url_tomorrow = 'https://www.betfair.com/exchange/plus/pt/futebol-apostas-1/tomorrow'\n",
    "\n",
    "betfair_email = '' #FILL WITH YOUR CREDENTIALS\n",
    "betfair_password = '' #FILL WITH YOUR CREDENTIALS"
   ]
  },
  {
   "cell_type": "markdown",
   "id": "90739b75",
   "metadata": {},
   "source": [
    "# Functions"
   ]
  },
  {
   "cell_type": "code",
   "execution_count": null,
   "id": "51a0ae8a",
   "metadata": {},
   "outputs": [],
   "source": []
  },
  {
   "cell_type": "markdown",
   "id": "24ca1fb3",
   "metadata": {},
   "source": [
    "# Main Code"
   ]
  },
  {
   "cell_type": "markdown",
   "id": "2ee2e78a",
   "metadata": {},
   "source": [
    "### Opening Betfair"
   ]
  },
  {
   "cell_type": "code",
   "execution_count": null,
   "id": "89486934",
   "metadata": {},
   "outputs": [],
   "source": [
    "#GET EDGE WEBDRIVER\n",
    "edge_driver_path = os.path.join(os.getcwd(), 'msedgedriver.exe')\n",
    "edge_service = Service(edge_driver_path)\n",
    "\n",
    "#OPEN BROWSER SESSION\n",
    "browser = webdriver.Edge(service = edge_service)\n",
    "browser.get(betfair_url_tomorrow) #CHANGE HERE BASED ON WHICH DAY YOU WANT TO COLLECT DATA FROM\n",
    "browser.maximize_window()\n",
    "\n",
    "#WAIT FOR COOKIES POPUP\n",
    "accepted = 0\n",
    "while accepted == 0:\n",
    "    try:\n",
    "        AcceptCookiesButton = browser.find_element(By.ID, 'onetrust-accept-btn-handler')\n",
    "        AcceptCookiesButton.click()\n",
    "        accepted = 1\n",
    "        print(\"Cookies accepted!\")\n",
    "    except:\n",
    "        print(\"Waiting for cookies...\")\n",
    "        time.sleep(2) \n",
    "\n",
    "#LOGING IN\n",
    "BetfairEmailInput = browser.find_element(By.ID, 'ssc-liu')\n",
    "BetfairEmailInput.clear()\n",
    "BetfairEmailInput.send_keys(betfair_email)\n",
    "BetfairPasswordInput = browser.find_element(By.ID, 'ssc-lipw')\n",
    "BetfairPasswordInput.clear()\n",
    "BetfairPasswordInput.send_keys(betfair_password)\n",
    "BetfairLoginButton = browser.find_element(By.ID, 'ssc-lis')\n",
    "BetfairLoginButton.click()\n",
    "print(\"Successfully logged in!\")\n",
    "\n",
    "#SCANNING THROUGH ALL THE GAMES\n",
    "pages_to_loop = True\n",
    "current_page = browser.current_url\n",
    "while pages_to_loop:\n",
    "    print(f'Buscando dados da página {current_page}')\n",
    "    time.sleep(5)\n",
    "    previous_page = current_page\n",
    "    NextButton = browser.find_element(By.XPATH, '//*[@id=\"main-wrapper\"]/div/div[2]/div/ui-view/ui-view/div/div/div/div/div[1]/div/div[1]/bf-super-coupon/main/ng-include[4]/bf-coupon-page-navigation/ul/li[4]/a/label')\n",
    "    NextButton.click()\n",
    "    current_page = browser.current_url\n",
    "    if previous_page == current_page:\n",
    "        pages_to_loop = False"
   ]
  },
  {
   "cell_type": "markdown",
   "id": "4c6d1a0a",
   "metadata": {},
   "source": [
    "### Closing Edge Webdriver"
   ]
  },
  {
   "cell_type": "code",
   "execution_count": null,
   "id": "5a415bbc",
   "metadata": {},
   "outputs": [],
   "source": [
    "browser.close()\n",
    "browser.quit()\n",
    "print(\"Browser closed!\")"
   ]
  },
  {
   "cell_type": "code",
   "execution_count": null,
   "id": "d2021cd0",
   "metadata": {},
   "outputs": [],
   "source": []
  }
 ],
 "metadata": {
  "kernelspec": {
   "display_name": "Python 3 (ipykernel)",
   "language": "python",
   "name": "python3"
  },
  "language_info": {
   "codemirror_mode": {
    "name": "ipython",
    "version": 3
   },
   "file_extension": ".py",
   "mimetype": "text/x-python",
   "name": "python",
   "nbconvert_exporter": "python",
   "pygments_lexer": "ipython3",
   "version": "3.11.5"
  }
 },
 "nbformat": 4,
 "nbformat_minor": 5
}
